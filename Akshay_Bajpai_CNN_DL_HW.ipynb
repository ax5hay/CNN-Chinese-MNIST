{
 "cells": [
  {
   "cell_type": "markdown",
   "metadata": {},
   "source": [
    "**Submitted by : Akshay Bajpai**\n",
    "\n",
    "**subject : Deep Learning & Intelligent Systems**\n",
    "\n",
    "**Study group: KNSSh-11f**\n",
    "\n",
    "**Institute: ICNI**"
   ]
  },
  {
   "cell_type": "code",
   "execution_count": 62,
   "metadata": {
    "_cell_guid": "b1076dfc-b9ad-4769-8c92-a6c4dae69d19",
    "_uuid": "8f2839f25d086af736a60e9eeb907d3b93b6e0e5",
    "execution": {
     "iopub.execute_input": "2021-02-18T16:13:02.174241Z",
     "iopub.status.busy": "2021-02-18T16:13:02.173315Z",
     "iopub.status.idle": "2021-02-18T16:13:08.447981Z",
     "shell.execute_reply": "2021-02-18T16:13:08.449193Z"
    },
    "papermill": {
     "duration": 6.301183,
     "end_time": "2021-02-18T16:13:08.449597",
     "exception": false,
     "start_time": "2021-02-18T16:13:02.148414",
     "status": "completed"
    },
    "tags": []
   },
   "outputs": [],
   "source": [
    "import os\n",
    "import tensorflow as tf\n",
    "from tensorflow.keras.models import Sequential\n",
    "from tensorflow.keras.layers import Dense, Dropout, Flatten, Conv2D, MaxPool2D, BatchNormalization\n",
    "from tensorflow.keras.utils import to_categorical\n",
    "import pandas as pd\n",
    "import numpy as np\n",
    "import seaborn as sns\n",
    "import matplotlib.pyplot as plt\n",
    "from matplotlib.image import imread\n",
    "%matplotlib inline\n",
    "\n",
    "np.random.seed(2)"
   ]
  },
  {
   "cell_type": "code",
   "execution_count": 63,
   "metadata": {
    "execution": {
     "iopub.execute_input": "2021-02-18T16:13:08.487902Z",
     "iopub.status.busy": "2021-02-18T16:13:08.487216Z",
     "iopub.status.idle": "2021-02-18T16:13:08.532483Z",
     "shell.execute_reply": "2021-02-18T16:13:08.531911Z"
    },
    "papermill": {
     "duration": 0.067553,
     "end_time": "2021-02-18T16:13:08.532621",
     "exception": false,
     "start_time": "2021-02-18T16:13:08.465068",
     "status": "completed"
    },
    "tags": []
   },
   "outputs": [],
   "source": [
    "data = pd.read_csv('chinese_mnist.csv', low_memory = False)"
   ]
  },
  {
   "cell_type": "code",
   "execution_count": 64,
   "metadata": {},
   "outputs": [
    {
     "data": {
      "text/html": [
       "<div>\n",
       "<style scoped>\n",
       "    .dataframe tbody tr th:only-of-type {\n",
       "        vertical-align: middle;\n",
       "    }\n",
       "\n",
       "    .dataframe tbody tr th {\n",
       "        vertical-align: top;\n",
       "    }\n",
       "\n",
       "    .dataframe thead th {\n",
       "        text-align: right;\n",
       "    }\n",
       "</style>\n",
       "<table border=\"1\" class=\"dataframe\">\n",
       "  <thead>\n",
       "    <tr style=\"text-align: right;\">\n",
       "      <th></th>\n",
       "      <th>suite_id</th>\n",
       "      <th>sample_id</th>\n",
       "      <th>code</th>\n",
       "      <th>value</th>\n",
       "      <th>character</th>\n",
       "    </tr>\n",
       "  </thead>\n",
       "  <tbody>\n",
       "    <tr>\n",
       "      <th>0</th>\n",
       "      <td>1</td>\n",
       "      <td>1</td>\n",
       "      <td>10</td>\n",
       "      <td>9</td>\n",
       "      <td>九</td>\n",
       "    </tr>\n",
       "    <tr>\n",
       "      <th>1</th>\n",
       "      <td>1</td>\n",
       "      <td>10</td>\n",
       "      <td>10</td>\n",
       "      <td>9</td>\n",
       "      <td>九</td>\n",
       "    </tr>\n",
       "    <tr>\n",
       "      <th>2</th>\n",
       "      <td>1</td>\n",
       "      <td>2</td>\n",
       "      <td>10</td>\n",
       "      <td>9</td>\n",
       "      <td>九</td>\n",
       "    </tr>\n",
       "    <tr>\n",
       "      <th>3</th>\n",
       "      <td>1</td>\n",
       "      <td>3</td>\n",
       "      <td>10</td>\n",
       "      <td>9</td>\n",
       "      <td>九</td>\n",
       "    </tr>\n",
       "    <tr>\n",
       "      <th>4</th>\n",
       "      <td>1</td>\n",
       "      <td>4</td>\n",
       "      <td>10</td>\n",
       "      <td>9</td>\n",
       "      <td>九</td>\n",
       "    </tr>\n",
       "  </tbody>\n",
       "</table>\n",
       "</div>"
      ],
      "text/plain": [
       "   suite_id  sample_id  code  value character\n",
       "0         1          1    10      9         九\n",
       "1         1         10    10      9         九\n",
       "2         1          2    10      9         九\n",
       "3         1          3    10      9         九\n",
       "4         1          4    10      9         九"
      ]
     },
     "execution_count": 64,
     "metadata": {},
     "output_type": "execute_result"
    }
   ],
   "source": [
    "data.head()"
   ]
  },
  {
   "cell_type": "code",
   "execution_count": 65,
   "metadata": {
    "execution": {
     "iopub.execute_input": "2021-02-18T16:13:08.566568Z",
     "iopub.status.busy": "2021-02-18T16:13:08.565843Z",
     "iopub.status.idle": "2021-02-18T16:13:09.053196Z",
     "shell.execute_reply": "2021-02-18T16:13:09.053928Z"
    },
    "papermill": {
     "duration": 0.50707,
     "end_time": "2021-02-18T16:13:09.054165",
     "exception": false,
     "start_time": "2021-02-18T16:13:08.547095",
     "status": "completed"
    },
    "tags": []
   },
   "outputs": [
    {
     "name": "stdout",
     "output_type": "stream",
     "text": [
      "dataframe rows: 15000\n",
      "image files : 15000\n"
     ]
    }
   ],
   "source": [
    "IMAGE_PATH = \"data/data/\"\n",
    "print(\"dataframe rows:\", data.shape[0]) \n",
    "print(\"image files :\", len(os.listdir(IMAGE_PATH)))"
   ]
  },
  {
   "cell_type": "code",
   "execution_count": 66,
   "metadata": {
    "execution": {
     "iopub.execute_input": "2021-02-18T16:13:09.091589Z",
     "iopub.status.busy": "2021-02-18T16:13:09.090850Z",
     "iopub.status.idle": "2021-02-18T16:13:09.371892Z",
     "shell.execute_reply": "2021-02-18T16:13:09.372403Z"
    },
    "papermill": {
     "duration": 0.30197,
     "end_time": "2021-02-18T16:13:09.372612",
     "exception": false,
     "start_time": "2021-02-18T16:13:09.070642",
     "status": "completed"
    },
    "tags": []
   },
   "outputs": [],
   "source": [
    "def file_path_col(data):    \n",
    "    file_path = f\"input_{data[0]}_{data[1]}_{data[2]}.jpg\"\n",
    "    return file_path\n",
    "\n",
    "data[\"file_path\"] = data.apply(file_path_col, axis = 1)"
   ]
  },
  {
   "cell_type": "code",
   "execution_count": 67,
   "metadata": {},
   "outputs": [
    {
     "data": {
      "text/html": [
       "<div>\n",
       "<style scoped>\n",
       "    .dataframe tbody tr th:only-of-type {\n",
       "        vertical-align: middle;\n",
       "    }\n",
       "\n",
       "    .dataframe tbody tr th {\n",
       "        vertical-align: top;\n",
       "    }\n",
       "\n",
       "    .dataframe thead th {\n",
       "        text-align: right;\n",
       "    }\n",
       "</style>\n",
       "<table border=\"1\" class=\"dataframe\">\n",
       "  <thead>\n",
       "    <tr style=\"text-align: right;\">\n",
       "      <th></th>\n",
       "      <th>suite_id</th>\n",
       "      <th>sample_id</th>\n",
       "      <th>code</th>\n",
       "      <th>value</th>\n",
       "      <th>character</th>\n",
       "      <th>file_path</th>\n",
       "    </tr>\n",
       "  </thead>\n",
       "  <tbody>\n",
       "    <tr>\n",
       "      <th>0</th>\n",
       "      <td>1</td>\n",
       "      <td>1</td>\n",
       "      <td>10</td>\n",
       "      <td>9</td>\n",
       "      <td>九</td>\n",
       "      <td>input_1_1_10.jpg</td>\n",
       "    </tr>\n",
       "    <tr>\n",
       "      <th>1</th>\n",
       "      <td>1</td>\n",
       "      <td>10</td>\n",
       "      <td>10</td>\n",
       "      <td>9</td>\n",
       "      <td>九</td>\n",
       "      <td>input_1_10_10.jpg</td>\n",
       "    </tr>\n",
       "    <tr>\n",
       "      <th>2</th>\n",
       "      <td>1</td>\n",
       "      <td>2</td>\n",
       "      <td>10</td>\n",
       "      <td>9</td>\n",
       "      <td>九</td>\n",
       "      <td>input_1_2_10.jpg</td>\n",
       "    </tr>\n",
       "    <tr>\n",
       "      <th>3</th>\n",
       "      <td>1</td>\n",
       "      <td>3</td>\n",
       "      <td>10</td>\n",
       "      <td>9</td>\n",
       "      <td>九</td>\n",
       "      <td>input_1_3_10.jpg</td>\n",
       "    </tr>\n",
       "    <tr>\n",
       "      <th>4</th>\n",
       "      <td>1</td>\n",
       "      <td>4</td>\n",
       "      <td>10</td>\n",
       "      <td>9</td>\n",
       "      <td>九</td>\n",
       "      <td>input_1_4_10.jpg</td>\n",
       "    </tr>\n",
       "  </tbody>\n",
       "</table>\n",
       "</div>"
      ],
      "text/plain": [
       "   suite_id  sample_id  code  value character          file_path\n",
       "0         1          1    10      9         九   input_1_1_10.jpg\n",
       "1         1         10    10      9         九  input_1_10_10.jpg\n",
       "2         1          2    10      9         九   input_1_2_10.jpg\n",
       "3         1          3    10      9         九   input_1_3_10.jpg\n",
       "4         1          4    10      9         九   input_1_4_10.jpg"
      ]
     },
     "execution_count": 67,
     "metadata": {},
     "output_type": "execute_result"
    }
   ],
   "source": [
    "data.head()"
   ]
  },
  {
   "cell_type": "code",
   "execution_count": 68,
   "metadata": {
    "execution": {
     "iopub.execute_input": "2021-02-18T16:13:09.410902Z",
     "iopub.status.busy": "2021-02-18T16:13:09.409812Z",
     "iopub.status.idle": "2021-02-18T16:13:09.420537Z",
     "shell.execute_reply": "2021-02-18T16:13:09.421005Z"
    },
    "papermill": {
     "duration": 0.032526,
     "end_time": "2021-02-18T16:13:09.421151",
     "exception": false,
     "start_time": "2021-02-18T16:13:09.388625",
     "status": "completed"
    },
    "tags": []
   },
   "outputs": [
    {
     "data": {
      "text/plain": [
       "value      character\n",
       "0          零            1000\n",
       "1          一            1000\n",
       "2          二            1000\n",
       "3          三            1000\n",
       "4          四            1000\n",
       "5          五            1000\n",
       "6          六            1000\n",
       "7          七            1000\n",
       "8          八            1000\n",
       "9          九            1000\n",
       "10         十            1000\n",
       "100        百            1000\n",
       "1000       千            1000\n",
       "10000      万            1000\n",
       "100000000  亿            1000\n",
       "dtype: int64"
      ]
     },
     "execution_count": 68,
     "metadata": {},
     "output_type": "execute_result"
    }
   ],
   "source": [
    "data.groupby([\"value\",\"character\"]).size()"
   ]
  },
  {
   "cell_type": "code",
   "execution_count": 69,
   "metadata": {
    "execution": {
     "iopub.execute_input": "2021-02-18T16:13:09.463755Z",
     "iopub.status.busy": "2021-02-18T16:13:09.462760Z",
     "iopub.status.idle": "2021-02-18T16:13:09.469011Z",
     "shell.execute_reply": "2021-02-18T16:13:09.469656Z"
    },
    "papermill": {
     "duration": 0.032027,
     "end_time": "2021-02-18T16:13:09.469816",
     "exception": false,
     "start_time": "2021-02-18T16:13:09.437789",
     "status": "completed"
    },
    "tags": []
   },
   "outputs": [
    {
     "data": {
      "text/plain": [
       "suite_id     0\n",
       "sample_id    0\n",
       "code         0\n",
       "value        0\n",
       "character    0\n",
       "file_path    0\n",
       "dtype: int64"
      ]
     },
     "execution_count": 69,
     "metadata": {},
     "output_type": "execute_result"
    }
   ],
   "source": [
    "data.isnull().sum()"
   ]
  },
  {
   "cell_type": "code",
   "execution_count": 70,
   "metadata": {
    "execution": {
     "iopub.execute_input": "2021-02-18T16:13:09.509020Z",
     "iopub.status.busy": "2021-02-18T16:13:09.508313Z",
     "iopub.status.idle": "2021-02-18T16:13:09.700987Z",
     "shell.execute_reply": "2021-02-18T16:13:09.700326Z"
    },
    "papermill": {
     "duration": 0.214309,
     "end_time": "2021-02-18T16:13:09.701167",
     "exception": false,
     "start_time": "2021-02-18T16:13:09.486858",
     "status": "completed"
    },
    "tags": []
   },
   "outputs": [
    {
     "data": {
      "text/plain": [
       "<matplotlib.image.AxesImage at 0x7f94ac769a60>"
      ]
     },
     "execution_count": 70,
     "metadata": {},
     "output_type": "execute_result"
    },
    {
     "data": {
      "image/png": "[encoded data removed]",
      "text/plain": [
       "<Figure size 432x288 with 1 Axes>"
      ]
     },
     "metadata": {
      "needs_background": "light"
     },
     "output_type": "display_data"
    }
   ],
   "source": [
    "path = os.path.join(IMAGE_PATH, data['file_path'][0])\n",
    "path_img = imread(path)\n",
    "plt.imshow(path_img, cmap='gray')"
   ]
  },
  {
   "cell_type": "code",
   "execution_count": 71,
   "metadata": {
    "execution": {
     "iopub.execute_input": "2021-02-18T16:13:09.748556Z",
     "iopub.status.busy": "2021-02-18T16:13:09.747793Z",
     "iopub.status.idle": "2021-02-18T16:13:09.943066Z",
     "shell.execute_reply": "2021-02-18T16:13:09.943589Z"
    },
    "papermill": {
     "duration": 0.221203,
     "end_time": "2021-02-18T16:13:09.943768",
     "exception": false,
     "start_time": "2021-02-18T16:13:09.722565",
     "status": "completed"
    },
    "tags": []
   },
   "outputs": [
    {
     "name": "stdout",
     "output_type": "stream",
     "text": [
      "12000\n",
      "3000\n"
     ]
    }
   ],
   "source": [
    "from sklearn.model_selection import train_test_split\n",
    "\n",
    "train, test = train_test_split(data, test_size=0.2, random_state=0, stratify=data[\"code\"].values, shuffle = True)\n",
    "\n",
    "print(train.shape[0])\n",
    "print(test.shape[0])"
   ]
  },
  {
   "cell_type": "code",
   "execution_count": 72,
   "metadata": {
    "execution": {
     "iopub.execute_input": "2021-02-18T16:13:09.988830Z",
     "iopub.status.busy": "2021-02-18T16:13:09.987894Z",
     "iopub.status.idle": "2021-02-18T16:13:10.003245Z",
     "shell.execute_reply": "2021-02-18T16:13:10.002740Z"
    },
    "papermill": {
     "duration": 0.040494,
     "end_time": "2021-02-18T16:13:10.003414",
     "exception": false,
     "start_time": "2021-02-18T16:13:09.962920",
     "status": "completed"
    },
    "tags": []
   },
   "outputs": [],
   "source": [
    "train_data, val_data = train_test_split(train, test_size=0.2, random_state=0, stratify=train[\"code\"].values, shuffle = True)"
   ]
  },
  {
   "cell_type": "code",
   "execution_count": 73,
   "metadata": {
    "execution": {
     "iopub.execute_input": "2021-02-18T16:13:10.047600Z",
     "iopub.status.busy": "2021-02-18T16:13:10.046707Z",
     "iopub.status.idle": "2021-02-18T16:13:10.051645Z",
     "shell.execute_reply": "2021-02-18T16:13:10.050983Z"
    },
    "papermill": {
     "duration": 0.028396,
     "end_time": "2021-02-18T16:13:10.051818",
     "exception": false,
     "start_time": "2021-02-18T16:13:10.023422",
     "status": "completed"
    },
    "tags": []
   },
   "outputs": [
    {
     "name": "stdout",
     "output_type": "stream",
     "text": [
      "Train set rows: 12000\n",
      "Test set rows: 3000\n",
      "Val set rows: 2400\n"
     ]
    }
   ],
   "source": [
    "print(f\"Train set rows: {train.shape[0]}\")\n",
    "print(f\"Test set rows: {test.shape[0]}\")\n",
    "print(f\"Val set rows: {val_data.shape[0]}\")"
   ]
  },
  {
   "cell_type": "code",
   "execution_count": 74,
   "metadata": {
    "execution": {
     "iopub.execute_input": "2021-02-18T16:13:10.097841Z",
     "iopub.status.busy": "2021-02-18T16:13:10.097164Z",
     "iopub.status.idle": "2021-02-18T16:13:10.526968Z",
     "shell.execute_reply": "2021-02-18T16:13:10.526338Z"
    },
    "papermill": {
     "duration": 0.455721,
     "end_time": "2021-02-18T16:13:10.527108",
     "exception": false,
     "start_time": "2021-02-18T16:13:10.071387",
     "status": "completed"
    },
    "tags": []
   },
   "outputs": [],
   "source": [
    "import skimage.io\n",
    "import skimage.transform\n",
    "\n",
    "def read_image(file_name):\n",
    "    path = os.path.join(IMAGE_PATH, file_name)\n",
    "    \n",
    "    image = skimage.io.imread(path)\n",
    "    image = skimage.transform.resize(image, (64, 64, 1), mode='reflect')\n",
    "    \n",
    "    return image[:,:,:]\n",
    "\n",
    "def character_encoder(dataset, var='character'):\n",
    "    X = np.stack(dataset['file_path'].apply(read_image))\n",
    "    y = pd.get_dummies(dataset[var], drop_first=False)\n",
    "    return X, y"
   ]
  },
  {
   "cell_type": "code",
   "execution_count": 75,
   "metadata": {
    "execution": {
     "iopub.execute_input": "2021-02-18T16:13:10.571923Z",
     "iopub.status.busy": "2021-02-18T16:13:10.571044Z",
     "iopub.status.idle": "2021-02-18T16:15:39.352891Z",
     "shell.execute_reply": "2021-02-18T16:15:39.353935Z"
    },
    "papermill": {
     "duration": 148.80753,
     "end_time": "2021-02-18T16:15:39.354254",
     "exception": false,
     "start_time": "2021-02-18T16:13:10.546724",
     "status": "completed"
    },
    "tags": []
   },
   "outputs": [
    {
     "name": "stdout",
     "output_type": "stream",
     "text": [
      "(12000, 64, 64, 1) , (12000, 15)\n",
      "(2400, 64, 64, 1) , (2400, 15)\n",
      "(3000, 64, 64, 1) , (3000, 15)\n"
     ]
    }
   ],
   "source": [
    "X_train, y_train = character_encoder(train)\n",
    "X_val, y_val = character_encoder(val_data)\n",
    "X_test, y_test = character_encoder(test)\n",
    "\n",
    "print(X_train.shape, \",\", y_train.shape)\n",
    "print(X_val.shape, \",\", y_val.shape)\n",
    "print(X_test.shape, \",\", y_test.shape)"
   ]
  },
  {
   "cell_type": "markdown",
   "metadata": {},
   "source": [
    "* WITH ADAM OPTIMISER"
   ]
  },
  {
   "cell_type": "code",
   "execution_count": 76,
   "metadata": {
    "execution": {
     "iopub.execute_input": "2021-02-18T16:15:39.448528Z",
     "iopub.status.busy": "2021-02-18T16:15:39.447619Z",
     "iopub.status.idle": "2021-02-18T16:15:42.706777Z",
     "shell.execute_reply": "2021-02-18T16:15:42.706254Z"
    },
    "papermill": {
     "duration": 3.306439,
     "end_time": "2021-02-18T16:15:42.706921",
     "exception": false,
     "start_time": "2021-02-18T16:15:39.400482",
     "status": "completed"
    },
    "tags": []
   },
   "outputs": [
    {
     "name": "stdout",
     "output_type": "stream",
     "text": [
      "Model: \"sequential_3\"\n",
      "_________________________________________________________________\n",
      " Layer (type)                Output Shape              Param #   \n",
      "=================================================================\n",
      " conv2d_12 (Conv2D)          (None, 64, 64, 32)        832       \n",
      "                                                                 \n",
      " max_pooling2d_12 (MaxPoolin  (None, 32, 32, 32)       0         \n",
      " g2D)                                                            \n",
      "                                                                 \n",
      " conv2d_13 (Conv2D)          (None, 32, 32, 64)        51264     \n",
      "                                                                 \n",
      " max_pooling2d_13 (MaxPoolin  (None, 16, 16, 64)       0         \n",
      " g2D)                                                            \n",
      "                                                                 \n",
      " conv2d_14 (Conv2D)          (None, 16, 16, 64)        102464    \n",
      "                                                                 \n",
      " max_pooling2d_14 (MaxPoolin  (None, 8, 8, 64)         0         \n",
      " g2D)                                                            \n",
      "                                                                 \n",
      " conv2d_15 (Conv2D)          (None, 8, 8, 164)         262564    \n",
      "                                                                 \n",
      " max_pooling2d_15 (MaxPoolin  (None, 4, 4, 164)        0         \n",
      " g2D)                                                            \n",
      "                                                                 \n",
      " flatten_3 (Flatten)         (None, 2624)              0         \n",
      "                                                                 \n",
      " dense_9 (Dense)             (None, 128)               336000    \n",
      "                                                                 \n",
      " dropout_3 (Dropout)         (None, 128)               0         \n",
      "                                                                 \n",
      " dense_10 (Dense)            (None, 256)               33024     \n",
      "                                                                 \n",
      " dense_11 (Dense)            (None, 15)                3855      \n",
      "                                                                 \n",
      "=================================================================\n",
      "Total params: 790,003\n",
      "Trainable params: 790,003\n",
      "Non-trainable params: 0\n",
      "_________________________________________________________________\n"
     ]
    }
   ],
   "source": [
    "model = Sequential()\n",
    "\n",
    "model.add(Conv2D(filters=32, kernel_size=(5,5), input_shape=X_train.shape[1:], padding = 'same', activation='relu'))\n",
    "model.add(MaxPool2D(pool_size=(2, 2)))\n",
    "\n",
    "model.add(Conv2D(64, kernel_size = (5, 5), activation = 'relu', padding = 'same'))\n",
    "model.add(MaxPool2D(pool_size = (2, 2)))\n",
    "\n",
    "model.add(Conv2D(64, kernel_size = (5, 5), activation = 'relu', padding = 'same'))\n",
    "model.add(MaxPool2D(pool_size = (2, 2)))\n",
    "\n",
    "model.add(Conv2D(164, kernel_size = (5, 5), activation = 'relu', padding = 'same'))\n",
    "model.add(MaxPool2D(pool_size = (2, 2)))\n",
    "\n",
    "model.add(Flatten())\n",
    "model.add(Dense(128, activation='relu'))\n",
    "model.add(Dropout(0.2))\n",
    "model.add(Dense(256, activation = 'relu'))\n",
    "model.add(Dense(y_train.shape[1], activation='softmax'))\n",
    "\n",
    "model.compile(optimizer='adam', loss='categorical_crossentropy', metrics=['accuracy']) \n",
    "model.summary()"
   ]
  },
  {
   "cell_type": "code",
   "execution_count": 77,
   "metadata": {
    "execution": {
     "iopub.execute_input": "2021-02-18T16:15:42.751359Z",
     "iopub.status.busy": "2021-02-18T16:15:42.750668Z",
     "iopub.status.idle": "2021-02-18T16:16:28.306095Z",
     "shell.execute_reply": "2021-02-18T16:16:28.305567Z"
    },
    "papermill": {
     "duration": 45.5799,
     "end_time": "2021-02-18T16:16:28.306246",
     "exception": false,
     "start_time": "2021-02-18T16:15:42.726346",
     "status": "completed"
    },
    "tags": []
   },
   "outputs": [
    {
     "name": "stdout",
     "output_type": "stream",
     "text": [
      "Epoch 1/5\n",
      "94/94 [==============================] - 45s 476ms/step - loss: 1.5050 - accuracy: 0.4825 - val_loss: 0.4969 - val_accuracy: 0.8396\n",
      "Epoch 2/5\n",
      "94/94 [==============================] - 50s 533ms/step - loss: 0.4256 - accuracy: 0.8482 - val_loss: 0.2855 - val_accuracy: 0.8992\n",
      "Epoch 3/5\n",
      "94/94 [==============================] - 54s 577ms/step - loss: 0.2322 - accuracy: 0.9200 - val_loss: 0.1367 - val_accuracy: 0.9542\n",
      "Epoch 4/5\n",
      "94/94 [==============================] - 51s 538ms/step - loss: 0.1356 - accuracy: 0.9561 - val_loss: 0.0700 - val_accuracy: 0.9792\n",
      "Epoch 5/5\n",
      "94/94 [==============================] - 49s 522ms/step - loss: 0.1148 - accuracy: 0.9616 - val_loss: 0.0651 - val_accuracy: 0.9775\n"
     ]
    }
   ],
   "source": [
    "history = model.fit(X_train, y_train, batch_size=128, epochs=5, validation_data=(X_val, y_val))"
   ]
  },
  {
   "cell_type": "code",
   "execution_count": 78,
   "metadata": {
    "execution": {
     "iopub.execute_input": "2021-02-18T16:16:28.793701Z",
     "iopub.status.busy": "2021-02-18T16:16:28.792618Z",
     "iopub.status.idle": "2021-02-18T16:16:28.993515Z",
     "shell.execute_reply": "2021-02-18T16:16:28.993967Z"
    },
    "papermill": {
     "duration": 0.455277,
     "end_time": "2021-02-18T16:16:28.994155",
     "exception": false,
     "start_time": "2021-02-18T16:16:28.538878",
     "status": "completed"
    },
    "tags": []
   },
   "outputs": [
    {
     "data": {
      "text/plain": [
       "<matplotlib.legend.Legend at 0x7f94ac66f430>"
      ]
     },
     "execution_count": 78,
     "metadata": {},
     "output_type": "execute_result"
    },
    {
     "data": {
      "image/png": "[encoded data removed]",
      "text/plain": [
       "<Figure size 1080x360 with 1 Axes>"
      ]
     },
     "metadata": {
      "needs_background": "light"
     },
     "output_type": "display_data"
    }
   ],
   "source": [
    "fig, ax = plt.subplots(figsize=(15,5))\n",
    "\n",
    "plt.plot(history.history['accuracy'], label='accuracy')\n",
    "plt.plot(history.history['val_accuracy'], label='val_accuracy', linestyle='--')\n",
    "plt.plot(history.history['loss'], label='loss')\n",
    "plt.plot(history.history['val_loss'], label='val_loss', linestyle='--')\n",
    "plt.legend()"
   ]
  },
  {
   "cell_type": "code",
   "execution_count": 79,
   "metadata": {
    "execution": {
     "iopub.execute_input": "2021-02-18T16:16:29.462671Z",
     "iopub.status.busy": "2021-02-18T16:16:29.461948Z",
     "iopub.status.idle": "2021-02-18T16:16:29.936519Z",
     "shell.execute_reply": "2021-02-18T16:16:29.937093Z"
    },
    "papermill": {
     "duration": 0.715371,
     "end_time": "2021-02-18T16:16:29.937297",
     "exception": false,
     "start_time": "2021-02-18T16:16:29.221926",
     "status": "completed"
    },
    "tags": []
   },
   "outputs": [
    {
     "name": "stdout",
     "output_type": "stream",
     "text": [
      "94/94 [==============================] - 3s 30ms/step - loss: 0.0867 - accuracy: 0.9700\n",
      "Test Loss is 0.08671651035547256\n",
      "Test Accuracy is 0.9700000286102295\n"
     ]
    }
   ],
   "source": [
    "ModelLoss, ModelAccuracy = model.evaluate(X_test, y_test)\n",
    "\n",
    "print(f'Test Loss is {ModelLoss}')\n",
    "print(f'Test Accuracy is {ModelAccuracy}')"
   ]
  },
  {
   "cell_type": "code",
   "execution_count": 80,
   "metadata": {},
   "outputs": [
    {
     "name": "stdout",
     "output_type": "stream",
     "text": [
      "94/94 [==============================] - 2s 26ms/step - loss: 0.0867 - accuracy: 0.9700\n"
     ]
    }
   ],
   "source": [
    "mape = model.evaluate(X_test, y_test)"
   ]
  },
  {
   "cell_type": "code",
   "execution_count": 81,
   "metadata": {},
   "outputs": [
    {
     "name": "stdout",
     "output_type": "stream",
     "text": [
      "94/94 [==============================] - 3s 27ms/step - loss: 0.0867 - accuracy: 0.9700\n"
     ]
    }
   ],
   "source": [
    "mae = model.evaluate(X_test, y_test)"
   ]
  },
  {
   "cell_type": "code",
   "execution_count": 82,
   "metadata": {},
   "outputs": [
    {
     "name": "stdout",
     "output_type": "stream",
     "text": [
      "94/94 [==============================] - 2s 26ms/step - loss: 0.0867 - accuracy: 0.9700\n"
     ]
    }
   ],
   "source": [
    "mse = model.evaluate(X_test, y_test)"
   ]
  },
  {
   "cell_type": "markdown",
   "metadata": {},
   "source": [
    "* WITH SGD OPTIMIZER"
   ]
  },
  {
   "cell_type": "code",
   "execution_count": 83,
   "metadata": {},
   "outputs": [
    {
     "name": "stdout",
     "output_type": "stream",
     "text": [
      "Model: \"sequential_4\"\n",
      "_________________________________________________________________\n",
      " Layer (type)                Output Shape              Param #   \n",
      "=================================================================\n",
      " conv2d_16 (Conv2D)          (None, 64, 64, 32)        832       \n",
      "                                                                 \n",
      " max_pooling2d_16 (MaxPoolin  (None, 32, 32, 32)       0         \n",
      " g2D)                                                            \n",
      "                                                                 \n",
      " conv2d_17 (Conv2D)          (None, 32, 32, 64)        51264     \n",
      "                                                                 \n",
      " max_pooling2d_17 (MaxPoolin  (None, 16, 16, 64)       0         \n",
      " g2D)                                                            \n",
      "                                                                 \n",
      " conv2d_18 (Conv2D)          (None, 16, 16, 64)        102464    \n",
      "                                                                 \n",
      " max_pooling2d_18 (MaxPoolin  (None, 8, 8, 64)         0         \n",
      " g2D)                                                            \n",
      "                                                                 \n",
      " conv2d_19 (Conv2D)          (None, 8, 8, 164)         262564    \n",
      "                                                                 \n",
      " max_pooling2d_19 (MaxPoolin  (None, 4, 4, 164)        0         \n",
      " g2D)                                                            \n",
      "                                                                 \n",
      " flatten_4 (Flatten)         (None, 2624)              0         \n",
      "                                                                 \n",
      " dense_12 (Dense)            (None, 128)               336000    \n",
      "                                                                 \n",
      " dropout_4 (Dropout)         (None, 128)               0         \n",
      "                                                                 \n",
      " dense_13 (Dense)            (None, 256)               33024     \n",
      "                                                                 \n",
      " dense_14 (Dense)            (None, 15)                3855      \n",
      "                                                                 \n",
      "=================================================================\n",
      "Total params: 790,003\n",
      "Trainable params: 790,003\n",
      "Non-trainable params: 0\n",
      "_________________________________________________________________\n"
     ]
    }
   ],
   "source": [
    "model = Sequential()\n",
    "\n",
    "model.add(Conv2D(filters=32, kernel_size=(5,5), input_shape=X_train.shape[1:], padding = 'same', activation='relu'))\n",
    "model.add(MaxPool2D(pool_size=(2, 2)))\n",
    "\n",
    "model.add(Conv2D(64, kernel_size = (5, 5), activation = 'relu', padding = 'same'))\n",
    "model.add(MaxPool2D(pool_size = (2, 2)))\n",
    "\n",
    "model.add(Conv2D(64, kernel_size = (5, 5), activation = 'relu', padding = 'same'))\n",
    "model.add(MaxPool2D(pool_size = (2, 2)))\n",
    "\n",
    "model.add(Conv2D(164, kernel_size = (5, 5), activation = 'relu', padding = 'same'))\n",
    "model.add(MaxPool2D(pool_size = (2, 2)))\n",
    "\n",
    "model.add(Flatten())\n",
    "model.add(Dense(128, activation='relu'))\n",
    "model.add(Dropout(0.2))\n",
    "model.add(Dense(256, activation = 'relu'))\n",
    "model.add(Dense(y_train.shape[1], activation='softmax'))\n",
    "\n",
    "model.compile(optimizer='sgd', loss='categorical_crossentropy', metrics=['accuracy']) \n",
    "model.summary()"
   ]
  },
  {
   "cell_type": "code",
   "execution_count": 84,
   "metadata": {},
   "outputs": [
    {
     "name": "stdout",
     "output_type": "stream",
     "text": [
      "Epoch 1/5\n",
      "94/94 [==============================] - 47s 498ms/step - loss: 2.7073 - accuracy: 0.0768 - val_loss: 2.7063 - val_accuracy: 0.1033\n",
      "Epoch 2/5\n",
      "94/94 [==============================] - 47s 504ms/step - loss: 2.7057 - accuracy: 0.1125 - val_loss: 2.7046 - val_accuracy: 0.1412\n",
      "Epoch 3/5\n",
      "94/94 [==============================] - 55s 581ms/step - loss: 2.7041 - accuracy: 0.1493 - val_loss: 2.7028 - val_accuracy: 0.1929\n",
      "Epoch 4/5\n",
      "94/94 [==============================] - 49s 525ms/step - loss: 2.7022 - accuracy: 0.1657 - val_loss: 2.7006 - val_accuracy: 0.2067\n",
      "Epoch 5/5\n",
      "94/94 [==============================] - 49s 521ms/step - loss: 2.6997 - accuracy: 0.1842 - val_loss: 2.6976 - val_accuracy: 0.2154\n"
     ]
    }
   ],
   "source": [
    "history = model.fit(X_train, y_train, batch_size=128, epochs=5, validation_data=(X_val, y_val))"
   ]
  },
  {
   "cell_type": "code",
   "execution_count": 85,
   "metadata": {},
   "outputs": [
    {
     "data": {
      "text/plain": [
       "<matplotlib.legend.Legend at 0x7f94d43b06d0>"
      ]
     },
     "execution_count": 85,
     "metadata": {},
     "output_type": "execute_result"
    },
    {
     "data": {
      "image/png": "[encoded data removed]",
      "text/plain": [
       "<Figure size 1080x360 with 1 Axes>"
      ]
     },
     "metadata": {
      "needs_background": "light"
     },
     "output_type": "display_data"
    }
   ],
   "source": [
    "fig, ax = plt.subplots(figsize=(15,5))\n",
    "\n",
    "plt.plot(history.history['accuracy'], label='accuracy')\n",
    "plt.plot(history.history['val_accuracy'], label='val_accuracy', linestyle='--')\n",
    "plt.plot(history.history['loss'], label='loss')\n",
    "plt.plot(history.history['val_loss'], label='val_loss', linestyle='--')\n",
    "plt.legend()"
   ]
  },
  {
   "cell_type": "code",
   "execution_count": 86,
   "metadata": {},
   "outputs": [
    {
     "name": "stdout",
     "output_type": "stream",
     "text": [
      "94/94 [==============================] - 3s 30ms/step - loss: 2.6973 - accuracy: 0.2117\n",
      "Test Loss is 2.697282314300537\n",
      "Test Accuracy is 0.21166667342185974\n"
     ]
    }
   ],
   "source": [
    "ModelLoss, ModelAccuracy = model.evaluate(X_test, y_test)\n",
    "\n",
    "print(f'Test Loss is {ModelLoss}')\n",
    "print(f'Test Accuracy is {ModelAccuracy}')"
   ]
  },
  {
   "cell_type": "code",
   "execution_count": 87,
   "metadata": {},
   "outputs": [
    {
     "name": "stdout",
     "output_type": "stream",
     "text": [
      "94/94 [==============================] - 3s 30ms/step - loss: 2.6973 - accuracy: 0.2117\n"
     ]
    }
   ],
   "source": [
    "mape = model.evaluate(X_test, y_test)"
   ]
  },
  {
   "cell_type": "code",
   "execution_count": 88,
   "metadata": {},
   "outputs": [
    {
     "name": "stdout",
     "output_type": "stream",
     "text": [
      "94/94 [==============================] - 3s 29ms/step - loss: 2.6973 - accuracy: 0.2117\n"
     ]
    }
   ],
   "source": [
    "mae = model.evaluate(X_test, y_test)"
   ]
  },
  {
   "cell_type": "code",
   "execution_count": 89,
   "metadata": {},
   "outputs": [
    {
     "name": "stdout",
     "output_type": "stream",
     "text": [
      "94/94 [==============================] - 3s 29ms/step - loss: 2.6973 - accuracy: 0.2117\n"
     ]
    }
   ],
   "source": [
    "mse = model.evaluate(X_test, y_test)"
   ]
  },
  {
   "cell_type": "markdown",
   "metadata": {},
   "source": [
    "* WITH ADAGRAD OPTIMIZER"
   ]
  },
  {
   "cell_type": "code",
   "execution_count": 90,
   "metadata": {},
   "outputs": [
    {
     "name": "stdout",
     "output_type": "stream",
     "text": [
      "Model: \"sequential_5\"\n",
      "_________________________________________________________________\n",
      " Layer (type)                Output Shape              Param #   \n",
      "=================================================================\n",
      " conv2d_20 (Conv2D)          (None, 64, 64, 32)        832       \n",
      "                                                                 \n",
      " max_pooling2d_20 (MaxPoolin  (None, 32, 32, 32)       0         \n",
      " g2D)                                                            \n",
      "                                                                 \n",
      " conv2d_21 (Conv2D)          (None, 32, 32, 64)        51264     \n",
      "                                                                 \n",
      " max_pooling2d_21 (MaxPoolin  (None, 16, 16, 64)       0         \n",
      " g2D)                                                            \n",
      "                                                                 \n",
      " conv2d_22 (Conv2D)          (None, 16, 16, 64)        102464    \n",
      "                                                                 \n",
      " max_pooling2d_22 (MaxPoolin  (None, 8, 8, 64)         0         \n",
      " g2D)                                                            \n",
      "                                                                 \n",
      " conv2d_23 (Conv2D)          (None, 8, 8, 164)         262564    \n",
      "                                                                 \n",
      " max_pooling2d_23 (MaxPoolin  (None, 4, 4, 164)        0         \n",
      " g2D)                                                            \n",
      "                                                                 \n",
      " flatten_5 (Flatten)         (None, 2624)              0         \n",
      "                                                                 \n",
      " dense_15 (Dense)            (None, 128)               336000    \n",
      "                                                                 \n",
      " dropout_5 (Dropout)         (None, 128)               0         \n",
      "                                                                 \n",
      " dense_16 (Dense)            (None, 256)               33024     \n",
      "                                                                 \n",
      " dense_17 (Dense)            (None, 15)                3855      \n",
      "                                                                 \n",
      "=================================================================\n",
      "Total params: 790,003\n",
      "Trainable params: 790,003\n",
      "Non-trainable params: 0\n",
      "_________________________________________________________________\n"
     ]
    }
   ],
   "source": [
    "model = Sequential()\n",
    "\n",
    "model.add(Conv2D(filters=32, kernel_size=(5,5), input_shape=X_train.shape[1:], padding = 'same', activation='relu'))\n",
    "model.add(MaxPool2D(pool_size=(2, 2)))\n",
    "\n",
    "model.add(Conv2D(64, kernel_size = (5, 5), activation = 'relu', padding = 'same'))\n",
    "model.add(MaxPool2D(pool_size = (2, 2)))\n",
    "\n",
    "model.add(Conv2D(64, kernel_size = (5, 5), activation = 'relu', padding = 'same'))\n",
    "model.add(MaxPool2D(pool_size = (2, 2)))\n",
    "\n",
    "model.add(Conv2D(164, kernel_size = (5, 5), activation = 'relu', padding = 'same'))\n",
    "model.add(MaxPool2D(pool_size = (2, 2)))\n",
    "\n",
    "model.add(Flatten())\n",
    "model.add(Dense(128, activation='relu'))\n",
    "model.add(Dropout(0.2))\n",
    "model.add(Dense(256, activation = 'relu'))\n",
    "model.add(Dense(y_train.shape[1], activation='softmax'))\n",
    "\n",
    "model.compile(optimizer='adagrad', loss='categorical_crossentropy', metrics=['accuracy']) \n",
    "model.summary()"
   ]
  },
  {
   "cell_type": "code",
   "execution_count": 91,
   "metadata": {},
   "outputs": [
    {
     "name": "stdout",
     "output_type": "stream",
     "text": [
      "Epoch 1/5\n",
      "94/94 [==============================] - 50s 531ms/step - loss: 2.7076 - accuracy: 0.0872 - val_loss: 2.7071 - val_accuracy: 0.1175\n",
      "Epoch 2/5\n",
      "94/94 [==============================] - 49s 523ms/step - loss: 2.7069 - accuracy: 0.1085 - val_loss: 2.7065 - val_accuracy: 0.1475\n",
      "Epoch 3/5\n",
      "94/94 [==============================] - 49s 522ms/step - loss: 2.7065 - accuracy: 0.1213 - val_loss: 2.7059 - val_accuracy: 0.1621\n",
      "Epoch 4/5\n",
      "94/94 [==============================] - 49s 522ms/step - loss: 2.7059 - accuracy: 0.1325 - val_loss: 2.7054 - val_accuracy: 0.1733\n",
      "Epoch 5/5\n",
      "94/94 [==============================] - 49s 525ms/step - loss: 2.7055 - accuracy: 0.1381 - val_loss: 2.7049 - val_accuracy: 0.1800\n"
     ]
    }
   ],
   "source": [
    "history = model.fit(X_train, y_train, batch_size=128, epochs=5, validation_data=(X_val, y_val))"
   ]
  },
  {
   "cell_type": "code",
   "execution_count": 92,
   "metadata": {},
   "outputs": [
    {
     "data": {
      "text/plain": [
       "<matplotlib.legend.Legend at 0x7f94b46665e0>"
      ]
     },
     "execution_count": 92,
     "metadata": {},
     "output_type": "execute_result"
    },
    {
     "data": {
      "image/png": "[encoded data removed]",
      "text/plain": [
       "<Figure size 1080x360 with 1 Axes>"
      ]
     },
     "metadata": {
      "needs_background": "light"
     },
     "output_type": "display_data"
    }
   ],
   "source": [
    "fig, ax = plt.subplots(figsize=(15,5))\n",
    "\n",
    "plt.plot(history.history['accuracy'], label='accuracy')\n",
    "plt.plot(history.history['val_accuracy'], label='val_accuracy', linestyle='--')\n",
    "plt.plot(history.history['loss'], label='loss')\n",
    "plt.plot(history.history['val_loss'], label='val_loss', linestyle='--')\n",
    "plt.legend()"
   ]
  },
  {
   "cell_type": "code",
   "execution_count": 93,
   "metadata": {},
   "outputs": [
    {
     "name": "stdout",
     "output_type": "stream",
     "text": [
      "94/94 [==============================] - 3s 27ms/step - loss: 2.7048 - accuracy: 0.1873\n",
      "Test Loss is 2.704793691635132\n",
      "Test Accuracy is 0.18733333051204681\n"
     ]
    }
   ],
   "source": [
    "ModelLoss, ModelAccuracy = model.evaluate(X_test, y_test)\n",
    "\n",
    "print(f'Test Loss is {ModelLoss}')\n",
    "print(f'Test Accuracy is {ModelAccuracy}')"
   ]
  },
  {
   "cell_type": "code",
   "execution_count": 94,
   "metadata": {},
   "outputs": [
    {
     "name": "stdout",
     "output_type": "stream",
     "text": [
      "94/94 [==============================] - 3s 31ms/step - loss: 2.7048 - accuracy: 0.1873\n"
     ]
    }
   ],
   "source": [
    "mape = model.evaluate(X_test, y_test)"
   ]
  },
  {
   "cell_type": "code",
   "execution_count": 95,
   "metadata": {},
   "outputs": [
    {
     "name": "stdout",
     "output_type": "stream",
     "text": [
      "94/94 [==============================] - 3s 28ms/step - loss: 2.7048 - accuracy: 0.1873\n"
     ]
    }
   ],
   "source": [
    "mae = model.evaluate(X_test, y_test)"
   ]
  },
  {
   "cell_type": "code",
   "execution_count": 96,
   "metadata": {},
   "outputs": [
    {
     "name": "stdout",
     "output_type": "stream",
     "text": [
      "94/94 [==============================] - 3s 30ms/step - loss: 2.7048 - accuracy: 0.1873\n"
     ]
    }
   ],
   "source": [
    "mse = model.evaluate(X_test, y_test)"
   ]
  }
 ],
 "metadata": {
  "kernelspec": {
   "display_name": "Python 3",
   "language": "python",
   "name": "python3"
  },
  "language_info": {
   "codemirror_mode": {
    "name": "ipython",
    "version": 3
   },
   "file_extension": ".py",
   "mimetype": "text/x-python",
   "name": "python",
   "nbconvert_exporter": "python",
   "pygments_lexer": "ipython3",
   "version": "3.9.7"
  },
  "papermill": {
   "default_parameters": {},
   "duration": 237.908074,
   "end_time": "2021-02-18T16:16:54.167773",
   "environment_variables": {},
   "exception": null,
   "input_path": "__notebook__.ipynb",
   "output_path": "__notebook__.ipynb",
   "parameters": {},
   "start_time": "2021-02-18T16:12:56.259699",
   "version": "2.2.2"
  }
 },
 "nbformat": 4,
 "nbformat_minor": 4
}
